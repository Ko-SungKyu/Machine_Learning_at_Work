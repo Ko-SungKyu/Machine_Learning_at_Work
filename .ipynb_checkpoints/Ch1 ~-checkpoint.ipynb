{
 "cells": [
  {
   "cell_type": "markdown",
   "metadata": {},
   "source": [
    "## 머신러닝 프로젝트의 과정\n",
    "---\n",
    "\n",
    "1. ### 해결하려는 문제를 머신러닝이 풀 수 있는 문제로 바꾸기\n",
    "    1. 문제를 정의한다\n",
    "    2. 머신러닝 이외의 방법은 없는지 검토한다\n",
    "\n",
    "2. ### 문제를 풀기 위한 도구 선택 및 전처리\n",
    "    3. 시스템을 설계한다\n",
    "    4. 사용할 알고리즘을 선택한다\n",
    "    5. 특징과 정답데이터, 로그를 설계한다\n",
    "    6. 데이터를 전처리한다\n",
    "\n",
    "3. ### 모델 구축하기\n",
    "    7. 학습을 수행하고 파라미터를 튜닝한다\n",
    "\n",
    "4. ### 기존 서비스에 통합하기\n",
    "    8. 시스템에 통합한다"
   ]
  },
  {
   "cell_type": "markdown",
   "metadata": {},
   "source": [
    "## 머신러닝 사례분석 방법\n",
    "---\n",
    "1. 어떤 알고리즘을 사용했는가\n",
    "2. 어떤 데이터를 특징으로 사용했는가\n",
    "3. 머신러닝 부분을 어떻게 통합했는가"
   ]
  },
  {
   "cell_type": "markdown",
   "metadata": {},
   "source": [
    "## 1-A 문제 정의하기\n",
    "---\n",
    "##### 구체적인 KPI를 정해야 한다\n",
    "> #### 예시\n",
    "1. 생산비용 절감 (문제, KPI)\n",
    "2. 수율 개선 (문제를 해결하기 위한 방법)\n",
    "3. 머신러닝을 통한 불량 발생 원인 파악 (머신러닝을 적용한 방법)"
   ]
  },
  {
   "cell_type": "markdown",
   "metadata": {},
   "source": [
    "## 1-B 머신러닝 이외의 방법은 없는지 검토한다\n",
    "---\n",
    "##### 머신러닝은 기술부채가 쉽게 누적되기 때문\n",
    "##### 다음과 같은 문제가 발생할 수 있다\n",
    "1. 확률적인 부분으로 인해 자동 테스트가 어렵다\n",
    "2. 오래 운영할 경우 사용자의 경향이 변하여 입력 경향도 바뀐다\n",
    "    > ##### 자연어 분석에 있어서 신조어의 출현\n",
    "    > ##### ex) 자바(지명) -> 자바(프로그래밍 언어)\n",
    "3. 처리 파이프라인이 복잡해진다\n",
    "4. 데이터 의존관계가 복잡해진다\n",
    "5. 실험코드, 실험파라메터가 포함되기 쉽다\n",
    "6. 개발 시스템과 운영 시스템간의 언어/프레임워크가 제각각일 수 있다"
   ]
  },
  {
   "cell_type": "code",
   "execution_count": null,
   "metadata": {},
   "outputs": [],
   "source": []
  }
 ],
 "metadata": {
  "kernelspec": {
   "display_name": "Python 3",
   "language": "python",
   "name": "python3"
  },
  "language_info": {
   "codemirror_mode": {
    "name": "ipython",
    "version": 3
   },
   "file_extension": ".py",
   "mimetype": "text/x-python",
   "name": "python",
   "nbconvert_exporter": "python",
   "pygments_lexer": "ipython3",
   "version": "3.6.5"
  }
 },
 "nbformat": 4,
 "nbformat_minor": 2
}
